{
 "cells": [
  {
   "cell_type": "code",
   "execution_count": 1,
   "id": "217ed793",
   "metadata": {
    "_cell_guid": "b1076dfc-b9ad-4769-8c92-a6c4dae69d19",
    "_uuid": "8f2839f25d086af736a60e9eeb907d3b93b6e0e5",
    "execution": {
     "iopub.execute_input": "2021-07-15T08:59:54.325638Z",
     "iopub.status.busy": "2021-07-15T08:59:54.324102Z",
     "iopub.status.idle": "2021-07-15T08:59:54.347806Z",
     "shell.execute_reply": "2021-07-15T08:59:54.348338Z",
     "shell.execute_reply.started": "2021-07-15T08:46:16.072904Z"
    },
    "papermill": {
     "duration": 0.047289,
     "end_time": "2021-07-15T08:59:54.348625",
     "exception": false,
     "start_time": "2021-07-15T08:59:54.301336",
     "status": "completed"
    },
    "tags": []
   },
   "outputs": [
    {
     "name": "stdout",
     "output_type": "stream",
     "text": [
      "/kaggle/input/harga-rumah/harga_rumah.csv\n"
     ]
    }
   ],
   "source": [
    "# This Python 3 environment comes with many helpful analytics libraries installed\n",
    "# It is defined by the kaggle/python Docker image: https://github.com/kaggle/docker-python\n",
    "# For example, here's several helpful packages to load\n",
    "\n",
    "import numpy as np # linear algebra\n",
    "import pandas as pd # data processing, CSV file I/O (e.g. pd.read_csv)\n",
    "\n",
    "# Input data files are available in the read-only \"../input/\" directory\n",
    "# For example, running this (by clicking run or pressing Shift+Enter) will list all files under the input directory\n",
    "\n",
    "import os\n",
    "for dirname, _, filenames in os.walk('/kaggle/input'):\n",
    "    for filename in filenames:\n",
    "        print(os.path.join(dirname, filename))\n",
    "\n",
    "# You can write up to 20GB to the current directory (/kaggle/working/) that gets preserved as output when you create a version using \"Save & Run All\" \n",
    "# You can also write temporary files to /kaggle/temp/, but they won't be saved outside of the current session"
   ]
  },
  {
   "cell_type": "markdown",
   "id": "9d2418c1",
   "metadata": {
    "papermill": {
     "duration": 0.01525,
     "end_time": "2021-07-15T08:59:54.380058",
     "exception": false,
     "start_time": "2021-07-15T08:59:54.364808",
     "status": "completed"
    },
    "tags": []
   },
   "source": [
    "* Machine learning ini dibuat menggunakan algoritma K-Nearest Neighbors (KNN)\n",
    "* Program ini menyajikan machine learning yang digunakan untuk memprediksi harga rumah"
   ]
  },
  {
   "cell_type": "markdown",
   "id": "4157616e",
   "metadata": {
    "papermill": {
     "duration": 0.017123,
     "end_time": "2021-07-15T08:59:54.413904",
     "exception": false,
     "start_time": "2021-07-15T08:59:54.396781",
     "status": "completed"
    },
    "tags": []
   },
   "source": [
    "**Import library**"
   ]
  },
  {
   "cell_type": "code",
   "execution_count": 2,
   "id": "a3cd1419",
   "metadata": {
    "execution": {
     "iopub.execute_input": "2021-07-15T08:59:54.466194Z",
     "iopub.status.busy": "2021-07-15T08:59:54.465393Z",
     "iopub.status.idle": "2021-07-15T08:59:55.340322Z",
     "shell.execute_reply": "2021-07-15T08:59:55.339762Z",
     "shell.execute_reply.started": "2021-07-15T08:46:16.086608Z"
    },
    "papermill": {
     "duration": 0.906703,
     "end_time": "2021-07-15T08:59:55.340511",
     "exception": false,
     "start_time": "2021-07-15T08:59:54.433808",
     "status": "completed"
    },
    "tags": []
   },
   "outputs": [],
   "source": [
    "import matplotlib.pyplot as plt\n",
    "import sklearn.metrics as metrics\n",
    "#pandas dan numpy done"
   ]
  },
  {
   "cell_type": "markdown",
   "id": "f41004e8",
   "metadata": {
    "papermill": {
     "duration": 0.016992,
     "end_time": "2021-07-15T08:59:55.375201",
     "exception": false,
     "start_time": "2021-07-15T08:59:55.358209",
     "status": "completed"
    },
    "tags": []
   },
   "source": [
    "**Load data**"
   ]
  },
  {
   "cell_type": "code",
   "execution_count": 3,
   "id": "b7c5bc37",
   "metadata": {
    "execution": {
     "iopub.execute_input": "2021-07-15T08:59:55.409637Z",
     "iopub.status.busy": "2021-07-15T08:59:55.408889Z",
     "iopub.status.idle": "2021-07-15T08:59:55.425284Z",
     "shell.execute_reply": "2021-07-15T08:59:55.425703Z",
     "shell.execute_reply.started": "2021-07-15T08:46:16.098469Z"
    },
    "papermill": {
     "duration": 0.035439,
     "end_time": "2021-07-15T08:59:55.425820",
     "exception": false,
     "start_time": "2021-07-15T08:59:55.390381",
     "status": "completed"
    },
    "tags": []
   },
   "outputs": [
    {
     "data": {
      "text/plain": [
       "(545, 4)"
      ]
     },
     "execution_count": 3,
     "metadata": {},
     "output_type": "execute_result"
    }
   ],
   "source": [
    "data_location = '../input/harga-rumah/harga_rumah.csv'\n",
    "row_data = pd.read_csv(data_location)\n",
    "row_data.shape"
   ]
  },
  {
   "cell_type": "code",
   "execution_count": 4,
   "id": "f74b9f10",
   "metadata": {
    "execution": {
     "iopub.execute_input": "2021-07-15T08:59:55.467167Z",
     "iopub.status.busy": "2021-07-15T08:59:55.466595Z",
     "iopub.status.idle": "2021-07-15T08:59:55.482408Z",
     "shell.execute_reply": "2021-07-15T08:59:55.482865Z",
     "shell.execute_reply.started": "2021-07-15T08:46:16.113493Z"
    },
    "papermill": {
     "duration": 0.041382,
     "end_time": "2021-07-15T08:59:55.482999",
     "exception": false,
     "start_time": "2021-07-15T08:59:55.441617",
     "status": "completed"
    },
    "tags": []
   },
   "outputs": [
    {
     "data": {
      "text/html": [
       "<div>\n",
       "<style scoped>\n",
       "    .dataframe tbody tr th:only-of-type {\n",
       "        vertical-align: middle;\n",
       "    }\n",
       "\n",
       "    .dataframe tbody tr th {\n",
       "        vertical-align: top;\n",
       "    }\n",
       "\n",
       "    .dataframe thead th {\n",
       "        text-align: right;\n",
       "    }\n",
       "</style>\n",
       "<table border=\"1\" class=\"dataframe\">\n",
       "  <thead>\n",
       "    <tr style=\"text-align: right;\">\n",
       "      <th></th>\n",
       "      <th>harga</th>\n",
       "      <th>luas</th>\n",
       "      <th>kasur</th>\n",
       "      <th>km</th>\n",
       "    </tr>\n",
       "  </thead>\n",
       "  <tbody>\n",
       "    <tr>\n",
       "      <th>0</th>\n",
       "      <td>13300000</td>\n",
       "      <td>7420</td>\n",
       "      <td>4</td>\n",
       "      <td>2</td>\n",
       "    </tr>\n",
       "    <tr>\n",
       "      <th>1</th>\n",
       "      <td>12250000</td>\n",
       "      <td>8960</td>\n",
       "      <td>4</td>\n",
       "      <td>4</td>\n",
       "    </tr>\n",
       "    <tr>\n",
       "      <th>2</th>\n",
       "      <td>12250000</td>\n",
       "      <td>9960</td>\n",
       "      <td>3</td>\n",
       "      <td>2</td>\n",
       "    </tr>\n",
       "    <tr>\n",
       "      <th>3</th>\n",
       "      <td>12215000</td>\n",
       "      <td>7500</td>\n",
       "      <td>4</td>\n",
       "      <td>2</td>\n",
       "    </tr>\n",
       "    <tr>\n",
       "      <th>4</th>\n",
       "      <td>11410000</td>\n",
       "      <td>7420</td>\n",
       "      <td>4</td>\n",
       "      <td>1</td>\n",
       "    </tr>\n",
       "  </tbody>\n",
       "</table>\n",
       "</div>"
      ],
      "text/plain": [
       "      harga  luas  kasur  km\n",
       "0  13300000  7420      4   2\n",
       "1  12250000  8960      4   4\n",
       "2  12250000  9960      3   2\n",
       "3  12215000  7500      4   2\n",
       "4  11410000  7420      4   1"
      ]
     },
     "execution_count": 4,
     "metadata": {},
     "output_type": "execute_result"
    }
   ],
   "source": [
    "#membaca data 5 teratas\n",
    "row_data.head()"
   ]
  },
  {
   "cell_type": "markdown",
   "id": "4dce84b3",
   "metadata": {
    "papermill": {
     "duration": 0.015771,
     "end_time": "2021-07-15T08:59:55.514730",
     "exception": false,
     "start_time": "2021-07-15T08:59:55.498959",
     "status": "completed"
    },
    "tags": []
   },
   "source": [
    "**Membersihkan data yang tidak lengkap (Jika ada)**"
   ]
  },
  {
   "cell_type": "code",
   "execution_count": 5,
   "id": "63ec916d",
   "metadata": {
    "execution": {
     "iopub.execute_input": "2021-07-15T08:59:55.550990Z",
     "iopub.status.busy": "2021-07-15T08:59:55.550433Z",
     "iopub.status.idle": "2021-07-15T08:59:55.591288Z",
     "shell.execute_reply": "2021-07-15T08:59:55.590790Z",
     "shell.execute_reply.started": "2021-07-15T08:46:16.124442Z"
    },
    "papermill": {
     "duration": 0.061233,
     "end_time": "2021-07-15T08:59:55.591461",
     "exception": false,
     "start_time": "2021-07-15T08:59:55.530228",
     "status": "completed"
    },
    "tags": []
   },
   "outputs": [
    {
     "data": {
      "text/html": [
       "<div>\n",
       "<style scoped>\n",
       "    .dataframe tbody tr th:only-of-type {\n",
       "        vertical-align: middle;\n",
       "    }\n",
       "\n",
       "    .dataframe tbody tr th {\n",
       "        vertical-align: top;\n",
       "    }\n",
       "\n",
       "    .dataframe thead th {\n",
       "        text-align: right;\n",
       "    }\n",
       "</style>\n",
       "<table border=\"1\" class=\"dataframe\">\n",
       "  <thead>\n",
       "    <tr style=\"text-align: right;\">\n",
       "      <th></th>\n",
       "      <th>harga</th>\n",
       "      <th>luas</th>\n",
       "      <th>kasur</th>\n",
       "      <th>km</th>\n",
       "    </tr>\n",
       "  </thead>\n",
       "  <tbody>\n",
       "    <tr>\n",
       "      <th>count</th>\n",
       "      <td>5.450000e+02</td>\n",
       "      <td>545.000000</td>\n",
       "      <td>545.000000</td>\n",
       "      <td>545.000000</td>\n",
       "    </tr>\n",
       "    <tr>\n",
       "      <th>mean</th>\n",
       "      <td>4.766729e+06</td>\n",
       "      <td>5150.541284</td>\n",
       "      <td>2.965138</td>\n",
       "      <td>1.286239</td>\n",
       "    </tr>\n",
       "    <tr>\n",
       "      <th>std</th>\n",
       "      <td>1.870440e+06</td>\n",
       "      <td>2170.141023</td>\n",
       "      <td>0.738064</td>\n",
       "      <td>0.502470</td>\n",
       "    </tr>\n",
       "    <tr>\n",
       "      <th>min</th>\n",
       "      <td>1.750000e+06</td>\n",
       "      <td>1650.000000</td>\n",
       "      <td>1.000000</td>\n",
       "      <td>1.000000</td>\n",
       "    </tr>\n",
       "    <tr>\n",
       "      <th>25%</th>\n",
       "      <td>3.430000e+06</td>\n",
       "      <td>3600.000000</td>\n",
       "      <td>2.000000</td>\n",
       "      <td>1.000000</td>\n",
       "    </tr>\n",
       "    <tr>\n",
       "      <th>50%</th>\n",
       "      <td>4.340000e+06</td>\n",
       "      <td>4600.000000</td>\n",
       "      <td>3.000000</td>\n",
       "      <td>1.000000</td>\n",
       "    </tr>\n",
       "    <tr>\n",
       "      <th>75%</th>\n",
       "      <td>5.740000e+06</td>\n",
       "      <td>6360.000000</td>\n",
       "      <td>3.000000</td>\n",
       "      <td>2.000000</td>\n",
       "    </tr>\n",
       "    <tr>\n",
       "      <th>max</th>\n",
       "      <td>1.330000e+07</td>\n",
       "      <td>16200.000000</td>\n",
       "      <td>6.000000</td>\n",
       "      <td>4.000000</td>\n",
       "    </tr>\n",
       "  </tbody>\n",
       "</table>\n",
       "</div>"
      ],
      "text/plain": [
       "              harga          luas       kasur          km\n",
       "count  5.450000e+02    545.000000  545.000000  545.000000\n",
       "mean   4.766729e+06   5150.541284    2.965138    1.286239\n",
       "std    1.870440e+06   2170.141023    0.738064    0.502470\n",
       "min    1.750000e+06   1650.000000    1.000000    1.000000\n",
       "25%    3.430000e+06   3600.000000    2.000000    1.000000\n",
       "50%    4.340000e+06   4600.000000    3.000000    1.000000\n",
       "75%    5.740000e+06   6360.000000    3.000000    2.000000\n",
       "max    1.330000e+07  16200.000000    6.000000    4.000000"
      ]
     },
     "execution_count": 5,
     "metadata": {},
     "output_type": "execute_result"
    }
   ],
   "source": [
    "df = row_data.dropna(axis=0)\n",
    "df.describe()"
   ]
  },
  {
   "cell_type": "code",
   "execution_count": 6,
   "id": "0f132e31",
   "metadata": {
    "execution": {
     "iopub.execute_input": "2021-07-15T08:59:55.629276Z",
     "iopub.status.busy": "2021-07-15T08:59:55.628725Z",
     "iopub.status.idle": "2021-07-15T08:59:55.631993Z",
     "shell.execute_reply": "2021-07-15T08:59:55.632577Z",
     "shell.execute_reply.started": "2021-07-15T08:46:16.155374Z"
    },
    "papermill": {
     "duration": 0.025107,
     "end_time": "2021-07-15T08:59:55.632739",
     "exception": false,
     "start_time": "2021-07-15T08:59:55.607632",
     "status": "completed"
    },
    "tags": []
   },
   "outputs": [
    {
     "name": "stdout",
     "output_type": "stream",
     "text": [
      "harga    int64\n",
      "luas     int64\n",
      "kasur    int64\n",
      "km       int64\n",
      "dtype: object\n"
     ]
    }
   ],
   "source": [
    "print(df.dtypes)"
   ]
  },
  {
   "cell_type": "markdown",
   "id": "8193e5e2",
   "metadata": {
    "papermill": {
     "duration": 0.017703,
     "end_time": "2021-07-15T08:59:55.667514",
     "exception": false,
     "start_time": "2021-07-15T08:59:55.649811",
     "status": "completed"
    },
    "tags": []
   },
   "source": [
    "**Menentukan variabel independen dan dependen**"
   ]
  },
  {
   "cell_type": "code",
   "execution_count": 7,
   "id": "8ca32138",
   "metadata": {
    "execution": {
     "iopub.execute_input": "2021-07-15T08:59:55.713018Z",
     "iopub.status.busy": "2021-07-15T08:59:55.712209Z",
     "iopub.status.idle": "2021-07-15T08:59:55.716013Z",
     "shell.execute_reply": "2021-07-15T08:59:55.715613Z",
     "shell.execute_reply.started": "2021-07-15T08:46:16.163019Z"
    },
    "papermill": {
     "duration": 0.029392,
     "end_time": "2021-07-15T08:59:55.716117",
     "exception": false,
     "start_time": "2021-07-15T08:59:55.686725",
     "status": "completed"
    },
    "tags": []
   },
   "outputs": [
    {
     "data": {
      "text/html": [
       "<div>\n",
       "<style scoped>\n",
       "    .dataframe tbody tr th:only-of-type {\n",
       "        vertical-align: middle;\n",
       "    }\n",
       "\n",
       "    .dataframe tbody tr th {\n",
       "        vertical-align: top;\n",
       "    }\n",
       "\n",
       "    .dataframe thead th {\n",
       "        text-align: right;\n",
       "    }\n",
       "</style>\n",
       "<table border=\"1\" class=\"dataframe\">\n",
       "  <thead>\n",
       "    <tr style=\"text-align: right;\">\n",
       "      <th></th>\n",
       "      <th>luas</th>\n",
       "      <th>kasur</th>\n",
       "      <th>km</th>\n",
       "    </tr>\n",
       "  </thead>\n",
       "  <tbody>\n",
       "    <tr>\n",
       "      <th>0</th>\n",
       "      <td>7420</td>\n",
       "      <td>4</td>\n",
       "      <td>2</td>\n",
       "    </tr>\n",
       "    <tr>\n",
       "      <th>1</th>\n",
       "      <td>8960</td>\n",
       "      <td>4</td>\n",
       "      <td>4</td>\n",
       "    </tr>\n",
       "    <tr>\n",
       "      <th>2</th>\n",
       "      <td>9960</td>\n",
       "      <td>3</td>\n",
       "      <td>2</td>\n",
       "    </tr>\n",
       "    <tr>\n",
       "      <th>3</th>\n",
       "      <td>7500</td>\n",
       "      <td>4</td>\n",
       "      <td>2</td>\n",
       "    </tr>\n",
       "    <tr>\n",
       "      <th>4</th>\n",
       "      <td>7420</td>\n",
       "      <td>4</td>\n",
       "      <td>1</td>\n",
       "    </tr>\n",
       "  </tbody>\n",
       "</table>\n",
       "</div>"
      ],
      "text/plain": [
       "   luas  kasur  km\n",
       "0  7420      4   2\n",
       "1  8960      4   4\n",
       "2  9960      3   2\n",
       "3  7500      4   2\n",
       "4  7420      4   1"
      ]
     },
     "execution_count": 7,
     "metadata": {},
     "output_type": "execute_result"
    }
   ],
   "source": [
    "#Menentukan varibel independen dari data sehingga, menghapus varibel dependen yaitu harga\n",
    "x = df.drop([\"harga\"],axis = 1)\n",
    "x.head()\n"
   ]
  },
  {
   "cell_type": "markdown",
   "id": "5bc33c6d",
   "metadata": {
    "_kg_hide-output": true,
    "papermill": {
     "duration": 0.016144,
     "end_time": "2021-07-15T08:59:55.749421",
     "exception": false,
     "start_time": "2021-07-15T08:59:55.733277",
     "status": "completed"
    },
    "tags": []
   },
   "source": []
  },
  {
   "cell_type": "code",
   "execution_count": 8,
   "id": "108ab4da",
   "metadata": {
    "execution": {
     "iopub.execute_input": "2021-07-15T08:59:55.791802Z",
     "iopub.status.busy": "2021-07-15T08:59:55.790943Z",
     "iopub.status.idle": "2021-07-15T08:59:55.794901Z",
     "shell.execute_reply": "2021-07-15T08:59:55.794435Z",
     "shell.execute_reply.started": "2021-07-15T08:46:16.178554Z"
    },
    "papermill": {
     "duration": 0.0283,
     "end_time": "2021-07-15T08:59:55.795020",
     "exception": false,
     "start_time": "2021-07-15T08:59:55.766720",
     "status": "completed"
    },
    "tags": []
   },
   "outputs": [
    {
     "data": {
      "text/plain": [
       "0    13300000\n",
       "1    12250000\n",
       "2    12250000\n",
       "3    12215000\n",
       "4    11410000\n",
       "Name: harga, dtype: int64"
      ]
     },
     "execution_count": 8,
     "metadata": {},
     "output_type": "execute_result"
    }
   ],
   "source": [
    "#Menampilkan data varibel dependen\n",
    "y = df[\"harga\"]\n",
    "y.head()"
   ]
  },
  {
   "cell_type": "markdown",
   "id": "4cd545fe",
   "metadata": {
    "papermill": {
     "duration": 0.016745,
     "end_time": "2021-07-15T08:59:55.830664",
     "exception": false,
     "start_time": "2021-07-15T08:59:55.813919",
     "status": "completed"
    },
    "tags": []
   },
   "source": [
    "**Membagi data untuk training dan validasi**"
   ]
  },
  {
   "cell_type": "code",
   "execution_count": 9,
   "id": "2a5807b1",
   "metadata": {
    "execution": {
     "iopub.execute_input": "2021-07-15T08:59:55.868450Z",
     "iopub.status.busy": "2021-07-15T08:59:55.867829Z",
     "iopub.status.idle": "2021-07-15T08:59:55.884774Z",
     "shell.execute_reply": "2021-07-15T08:59:55.884236Z",
     "shell.execute_reply.started": "2021-07-15T08:46:16.190512Z"
    },
    "papermill": {
     "duration": 0.037137,
     "end_time": "2021-07-15T08:59:55.884897",
     "exception": false,
     "start_time": "2021-07-15T08:59:55.847760",
     "status": "completed"
    },
    "tags": []
   },
   "outputs": [],
   "source": [
    "from sklearn.model_selection import train_test_split\n",
    "train_x, test_x, train_y, test_y = train_test_split(x,y,test_size = 0.2, random_state = 70)"
   ]
  },
  {
   "cell_type": "markdown",
   "id": "970961fd",
   "metadata": {
    "papermill": {
     "duration": 0.017534,
     "end_time": "2021-07-15T08:59:55.922432",
     "exception": false,
     "start_time": "2021-07-15T08:59:55.904898",
     "status": "completed"
    },
    "tags": []
   },
   "source": [
    "**Membangun model dengan algoritma K-Nearest Neighbors**"
   ]
  },
  {
   "cell_type": "code",
   "execution_count": 10,
   "id": "a41bbc87",
   "metadata": {
    "execution": {
     "iopub.execute_input": "2021-07-15T08:59:55.961143Z",
     "iopub.status.busy": "2021-07-15T08:59:55.960516Z",
     "iopub.status.idle": "2021-07-15T08:59:56.090659Z",
     "shell.execute_reply": "2021-07-15T08:59:56.089882Z",
     "shell.execute_reply.started": "2021-07-15T08:46:16.327897Z"
    },
    "papermill": {
     "duration": 0.151502,
     "end_time": "2021-07-15T08:59:56.090872",
     "exception": false,
     "start_time": "2021-07-15T08:59:55.939370",
     "status": "completed"
    },
    "tags": []
   },
   "outputs": [
    {
     "name": "stdout",
     "output_type": "stream",
     "text": [
      " MSE:  2829221676605.5044 \n",
      " Accuracy:  0.11749687984493729\n"
     ]
    }
   ],
   "source": [
    "from sklearn.neighbors import KNeighborsRegressor as KNN_Reg\n",
    "from sklearn.metrics import mean_squared_error as mse\n",
    "\n",
    "model  = KNN_Reg(n_neighbors = 1)\n",
    "\n",
    "#training model\n",
    "model.fit(train_x, train_y)\n",
    "acc1 = model.score(test_x, test_y)\n",
    "\n",
    "# test for prediction\n",
    "test_predict = model.predict(test_x)\n",
    "score = mse(test_predict, test_y)\n",
    "print(' MSE: ', score, '\\n', 'Accuracy: ', acc1)  "
   ]
  },
  {
   "cell_type": "markdown",
   "id": "5a1b2e15",
   "metadata": {
    "papermill": {
     "duration": 0.019427,
     "end_time": "2021-07-15T08:59:56.133249",
     "exception": false,
     "start_time": "2021-07-15T08:59:56.113822",
     "status": "completed"
    },
    "tags": []
   },
   "source": [
    "**Menggunakan elbow method untuk menentukan nilai K terbaik**"
   ]
  },
  {
   "cell_type": "code",
   "execution_count": 11,
   "id": "c9a28bb2",
   "metadata": {
    "execution": {
     "iopub.execute_input": "2021-07-15T08:59:56.172668Z",
     "iopub.status.busy": "2021-07-15T08:59:56.171956Z",
     "iopub.status.idle": "2021-07-15T08:59:56.174688Z",
     "shell.execute_reply": "2021-07-15T08:59:56.174180Z",
     "shell.execute_reply.started": "2021-07-15T08:46:16.346172Z"
    },
    "papermill": {
     "duration": 0.024656,
     "end_time": "2021-07-15T08:59:56.174795",
     "exception": false,
     "start_time": "2021-07-15T08:59:56.150139",
     "status": "completed"
    },
    "tags": []
   },
   "outputs": [],
   "source": [
    "def Elbow(K):\n",
    "  #inisialisasi list kosong\n",
    "  test_mse =[]\n",
    "\n",
    "  #train model pada setiap nilai K\n",
    "  for i in K:\n",
    "    model = KNN_Reg(n_neighbors=i)\n",
    "    model.fit(train_x, train_y)\n",
    "    tmp = model.predict(test_x)\n",
    "    tmp = mse(tmp, test_y)\n",
    "    test_mse.append(tmp)\n",
    "  \n",
    "  return test_mse"
   ]
  },
  {
   "cell_type": "markdown",
   "id": "0b7d2ce3",
   "metadata": {
    "papermill": {
     "duration": 0.019228,
     "end_time": "2021-07-15T08:59:56.211350",
     "exception": false,
     "start_time": "2021-07-15T08:59:56.192122",
     "status": "completed"
    },
    "tags": []
   },
   "source": [
    "**Menampilkan grafik nilai k berdasarkan MSE**"
   ]
  },
  {
   "cell_type": "code",
   "execution_count": 12,
   "id": "cef0c3e1",
   "metadata": {
    "execution": {
     "iopub.execute_input": "2021-07-15T08:59:56.257655Z",
     "iopub.status.busy": "2021-07-15T08:59:56.255711Z",
     "iopub.status.idle": "2021-07-15T08:59:56.661937Z",
     "shell.execute_reply": "2021-07-15T08:59:56.663191Z",
     "shell.execute_reply.started": "2021-07-15T08:46:16.356768Z"
    },
    "papermill": {
     "duration": 0.431722,
     "end_time": "2021-07-15T08:59:56.663431",
     "exception": false,
     "start_time": "2021-07-15T08:59:56.231709",
     "status": "completed"
    },
    "tags": []
   },
   "outputs": [
    {
     "data": {
      "text/plain": [
       "Text(0.5, 1.0, 'Elbow Curve for Test')"
      ]
     },
     "execution_count": 12,
     "metadata": {},
     "output_type": "execute_result"
    },
    {
     "data": {
      "image/png": "[encoded data removed]",
      "text/plain": [
       "<Figure size 432x288 with 1 Axes>"
      ]
     },
     "metadata": {
      "needs_background": "light"
     },
     "output_type": "display_data"
    }
   ],
   "source": [
    "K = range(1, 10)\n",
    "test = Elbow(K)\n",
    "\n",
    "#plotting\n",
    "plt.plot(K,test)\n",
    "plt.xlabel('K Neighbors')\n",
    "plt.ylabel('Mean Squared Error (MSE)')\n",
    "plt.title('Elbow Curve for Test')"
   ]
  },
  {
   "cell_type": "markdown",
   "id": "34e7b8f9",
   "metadata": {
    "papermill": {
     "duration": 0.03018,
     "end_time": "2021-07-15T08:59:56.726327",
     "exception": false,
     "start_time": "2021-07-15T08:59:56.696147",
     "status": "completed"
    },
    "tags": []
   },
   "source": [
    "**Melakukan improvisasi dengan menerapkan nilai k yang menghasilkan MSE minimum**"
   ]
  },
  {
   "cell_type": "code",
   "execution_count": 13,
   "id": "f29129cb",
   "metadata": {
    "execution": {
     "iopub.execute_input": "2021-07-15T08:59:56.803629Z",
     "iopub.status.busy": "2021-07-15T08:59:56.802462Z",
     "iopub.status.idle": "2021-07-15T08:59:56.812825Z",
     "shell.execute_reply": "2021-07-15T08:59:56.813747Z",
     "shell.execute_reply.started": "2021-07-15T08:46:16.559258Z"
    },
    "papermill": {
     "duration": 0.055684,
     "end_time": "2021-07-15T08:59:56.813890",
     "exception": false,
     "start_time": "2021-07-15T08:59:56.758206",
     "status": "completed"
    },
    "tags": []
   },
   "outputs": [
    {
     "name": "stdout",
     "output_type": "stream",
     "text": [
      " Accuracy of new model (%): 17.46638513336126 \n",
      " Accuracy of old model (%): 11.749687984493729 \n",
      " Improvement (%): 5.716697148867533\n"
     ]
    }
   ],
   "source": [
    "new_model  = KNN_Reg(n_neighbors = 3)\n",
    "\n",
    "# Train model\n",
    "new_model.fit(train_x, train_y)\n",
    "acc2 = new_model.score(test_x, test_y)\n",
    "\n",
    "# Prediction test\n",
    "print(' Accuracy of new model (%):', acc2*100, '\\n',\n",
    "      'Accuracy of old model (%):', acc1*100, '\\n Improvement (%):', (acc2-acc1)*100)"
   ]
  },
  {
   "cell_type": "markdown",
   "id": "dc7e02e8",
   "metadata": {
    "papermill": {
     "duration": 0.030846,
     "end_time": "2021-07-15T08:59:56.875057",
     "exception": false,
     "start_time": "2021-07-15T08:59:56.844211",
     "status": "completed"
    },
    "tags": []
   },
   "source": [
    "**Menentukan hasil prediksi harga**\n",
    "\n",
    "data_jual_rumah = ['luas','kasur','km']"
   ]
  },
  {
   "cell_type": "code",
   "execution_count": 14,
   "id": "63124f1f",
   "metadata": {
    "execution": {
     "iopub.execute_input": "2021-07-15T08:59:56.925406Z",
     "iopub.status.busy": "2021-07-15T08:59:56.923810Z",
     "iopub.status.idle": "2021-07-15T08:59:56.928446Z",
     "shell.execute_reply": "2021-07-15T08:59:56.927655Z",
     "shell.execute_reply.started": "2021-07-15T08:57:42.508055Z"
    },
    "papermill": {
     "duration": 0.031494,
     "end_time": "2021-07-15T08:59:56.928633",
     "exception": false,
     "start_time": "2021-07-15T08:59:56.897139",
     "status": "completed"
    },
    "tags": []
   },
   "outputs": [
    {
     "name": "stdout",
     "output_type": "stream",
     "text": [
      " Hasil Prediksi harga rumah dengan old model: Rp [6020000.] Juta\n",
      " Hasil Prediksi harga rumah dengan new model: Rp [5553333.33333333] Juta\n"
     ]
    }
   ],
   "source": [
    "data_harga_rumah = np.array([[8000,4,2]])\n",
    "pred_old = model.predict(data_harga_rumah)\n",
    "pred_new = new_model.predict(data_harga_rumah)\n",
    "\n",
    "print(' Hasil Prediksi harga rumah dengan old model: Rp', pred_old, 'Juta\\n',\n",
    "      'Hasil Prediksi harga rumah dengan new model: Rp', pred_new, 'Juta')"
   ]
  }
 ],
 "metadata": {
  "kernelspec": {
   "display_name": "Python 3",
   "language": "python",
   "name": "python3"
  },
  "language_info": {
   "codemirror_mode": {
    "name": "ipython",
    "version": 3
   },
   "file_extension": ".py",
   "mimetype": "text/x-python",
   "name": "python",
   "nbconvert_exporter": "python",
   "pygments_lexer": "ipython3",
   "version": "3.7.10"
  },
  "papermill": {
   "default_parameters": {},
   "duration": 10.562156,
   "end_time": "2021-07-15T08:59:57.456745",
   "environment_variables": {},
   "exception": null,
   "input_path": "__notebook__.ipynb",
   "output_path": "__notebook__.ipynb",
   "parameters": {},
   "start_time": "2021-07-15T08:59:46.894589",
   "version": "2.3.3"
  }
 },
 "nbformat": 4,
 "nbformat_minor": 5
}
